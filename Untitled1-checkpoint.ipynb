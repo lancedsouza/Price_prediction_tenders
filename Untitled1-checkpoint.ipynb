{
 "cells": [
  {
   "cell_type": "code",
   "execution_count": 1,
   "id": "aa74114e-38c3-4ac8-a0ae-0a24fe6cd6cf",
   "metadata": {},
   "outputs": [
    {
     "name": "stdout",
     "output_type": "stream",
     "text": [
      "Vector for 'king': [-0.00410223 -0.08368949 -0.05600012  0.07104538  0.0335254   0.0722567\n",
      "  0.06800248  0.07530741 -0.03789154 -0.00561806]\n",
      "Most similar words to 'king': [('bus', 0.3586882948875427), ('transport', 0.22743138670921326), ('barked', 0.1153423935174942)]\n"
     ]
    }
   ],
   "source": [
    "from gensim.models import Word2Vec\n",
    "\n",
    "# Sample sentences\n",
    "sentences = [\n",
    "    [\"king\", \"queen\", \"man\", \"woman\"],\n",
    "    [\"dog\", \"barked\", \"cat\", \"meowed\"],\n",
    "    [\"car\", \"drives\", \"bus\", \"transport\"]\n",
    "]\n",
    "\n",
    "# Train Word2Vec model with specified parameters\n",
    "model = Word2Vec(sentences, vector_size=10, window=2, min_count=1)\n",
    "\n",
    "# Example: Get the vector for the word 'king'\n",
    "king_vector = model.wv['king']\n",
    "print(\"Vector for 'king':\", king_vector)\n",
    "\n",
    "# Example: Find similar words to 'king'\n",
    "similar_words = model.wv.most_similar('king', topn=3)\n",
    "print(\"Most similar words to 'king':\", similar_words)\n"
   ]
  },
  {
   "cell_type": "code",
   "execution_count": 2,
   "id": "63805f65-a626-4d42-96aa-f78723dc1315",
   "metadata": {},
   "outputs": [
    {
     "name": "stderr",
     "output_type": "stream",
     "text": [
      "C:\\Users\\Wishes Lawrence\\anaconda3\\lib\\site-packages\\pandas\\core\\arrays\\masked.py:60: UserWarning: Pandas requires version '1.3.6' or newer of 'bottleneck' (version '1.3.5' currently installed).\n",
      "  from pandas.core import (\n"
     ]
    },
    {
     "name": "stdout",
     "output_type": "stream",
     "text": [
      "Sentence: 'I love programming.' | Average Embedding: [0.4  0.15 0.25]\n",
      "Sentence: 'I hate bugs.' | Average Embedding: [0.2  0.35 0.2 ]\n",
      "Sentence: 'Programming is fun.' | Average Embedding: [0.6 0.3 0.7]\n",
      "Sentence: 'Bugs are annoying.' | Average Embedding: [0.25 0.3  0.35]\n",
      "Average embeddings for all documents:\n",
      "Document: 'I love programming.' | Average Embedding: [0.4  0.15 0.25]\n",
      "Document: 'I hate bugs.' | Average Embedding: [0.2  0.35 0.2 ]\n",
      "Document: 'Programming is fun.' | Average Embedding: [0.6 0.3 0.7]\n",
      "Document: 'Bugs are annoying.' | Average Embedding: [0.25 0.3  0.35]\n"
     ]
    }
   ],
   "source": [
    "import numpy as np\n",
    "from sklearn.linear_model import LogisticRegression\n",
    "from sklearn.pipeline import make_pipeline\n",
    "from sklearn.preprocessing import StandardScaler\n",
    "\n",
    "# Example: Pre-trained GloVe embeddings (mock)\n",
    "glove_embeddings = {\n",
    "    \"love\": np.array([0.5, 0.1, 0.4]),\n",
    "    \"hate\": np.array([0.1, 0.5, 0.3]),\n",
    "    \"i\": np.array([0.3, 0.2, 0.1]),  # Corrected to lowercase 'i'\n",
    "    \"programming\": np.array([0.6, 0.3, 0.7]),\n",
    "    \"bugs\": np.array([0.2, 0.4, 0.5]),\n",
    "    \"fun\": np.array([0.4, 0.3, 0.6]),\n",
    "    \"are\": np.array([0.3, 0.2, 0.2]),\n",
    "    \"annoying\": np.array([0.4, 0.5, 0.1])\n",
    "}\n",
    "\n",
    "# Sample sentences\n",
    "documents = [\n",
    "    \"I love programming.\",\n",
    "    \"I hate bugs.\",\n",
    "    \"Programming is fun.\",\n",
    "    \"Bugs are annoying.\"\n",
    "]\n",
    "\n",
    "# Generate embeddings by averaging word vectors\n",
    "def get_average_embedding(sentence):\n",
    "    # Convert sentence to lowercase and split into words\n",
    "    words = sentence.lower().split()\n",
    "    # Get word vectors from embeddings\n",
    "    word_vectors = [glove_embeddings[word] for word in words if word in glove_embeddings]\n",
    "    \n",
    "    # Check if any word vectors were found\n",
    "    if word_vectors:\n",
    "        avg_embedding = np.mean(word_vectors, axis=0)\n",
    "        print(f\"Sentence: '{sentence}' | Average Embedding: {avg_embedding}\")\n",
    "        return avg_embedding\n",
    "    else:\n",
    "        print(f\"Sentence: '{sentence}' | No valid words found.\")\n",
    "        return None\n",
    "\n",
    "# Get average embeddings for all documents\n",
    "average_embeddings = [get_average_embedding(doc) for doc in documents]\n",
    "\n",
    "# Print results\n",
    "print(\"Average embeddings for all documents:\")\n",
    "for doc, embedding in zip(documents, average_embeddings):\n",
    "    print(f\"Document: '{doc}' | Average Embedding: {embedding}\")\n"
   ]
  },
  {
   "cell_type": "code",
   "execution_count": null,
   "id": "61eca623-30b4-4a7b-a30a-4f58af93f1a1",
   "metadata": {},
   "outputs": [],
   "source": []
  }
 ],
 "metadata": {
  "kernelspec": {
   "display_name": "Python 3 (ipykernel)",
   "language": "python",
   "name": "python3"
  },
  "language_info": {
   "codemirror_mode": {
    "name": "ipython",
    "version": 3
   },
   "file_extension": ".py",
   "mimetype": "text/x-python",
   "name": "python",
   "nbconvert_exporter": "python",
   "pygments_lexer": "ipython3",
   "version": "3.10.16"
  }
 },
 "nbformat": 4,
 "nbformat_minor": 5
}
