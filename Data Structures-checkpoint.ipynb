{
 "cells": [
  {
   "cell_type": "markdown",
   "id": "26b3c142",
   "metadata": {},
   "source": [
    "    Linked List"
   ]
  },
  {
   "cell_type": "code",
   "execution_count": 5,
   "id": "2e57a0d5",
   "metadata": {},
   "outputs": [],
   "source": [
    "class Node:\n",
    "    def __init__(self,data):\n",
    "        self.data=data\n",
    "        self.next=None\n"
   ]
  },
  {
   "cell_type": "code",
   "execution_count": 10,
   "id": "4c446984",
   "metadata": {},
   "outputs": [
    {
     "name": "stdout",
     "output_type": "stream",
     "text": [
      "5\n"
     ]
    }
   ],
   "source": [
    "class Node:\n",
    "    def __init__(self, data):\n",
    "        self.data = data\n",
    "        self.next = None\n",
    "        \n",
    "  \n"
   ]
  },
  {
   "cell_type": "code",
   "execution_count": 70,
   "id": "9119b231",
   "metadata": {},
   "outputs": [],
   "source": [
    "head=Node(5)\n",
    "head.next=Node(6)\n",
    "head.next.next=Node(8)\n",
    "\n",
    "\n",
    "def print_LL(head):\n",
    "    curr = head\n",
    "    while curr is not None:\n",
    "        \n",
    "        print(f\"{curr.data}-->\", end=\"\")\n",
    "        \n",
    "        curr = curr.next\n",
    "    print()\n",
    "    \n",
    "def insert_node_infront(head,data):\n",
    "    new_node=Node(data)\n",
    "    new_node.next=head\n",
    "    head=new_node\n",
    "    return head \n",
    "\n",
    "\n",
    "    \n",
    "\n",
    "        \n",
    "        \n",
    "        \n",
    "    "
   ]
  },
  {
   "cell_type": "code",
   "execution_count": null,
   "id": "5029040a",
   "metadata": {},
   "outputs": [],
   "source": [
    "\n"
   ]
  },
  {
   "cell_type": "code",
   "execution_count": null,
   "id": "1578ea32",
   "metadata": {},
   "outputs": [],
   "source": []
  },
  {
   "cell_type": "code",
   "execution_count": 71,
   "id": "05f36521",
   "metadata": {},
   "outputs": [
    {
     "name": "stdout",
     "output_type": "stream",
     "text": [
      "5-->6-->8-->\n",
      "20-->5-->6-->8-->\n"
     ]
    }
   ],
   "source": [
    "\n",
    "\n",
    "# Print linked list before insertion\n",
    "print_LL(head)  # Output: 5-->6-->8\n",
    "\n",
    "# Insert node with data 20 in front\n",
    "new_head = insert_node_infront(head, 20)\n",
    "\n",
    "# Print linked list after insertion\n",
    "print_LL(new_head)  # Output: 20-->5-->6-->8"
   ]
  },
  {
   "cell_type": "code",
   "execution_count": null,
   "id": "15e6549d",
   "metadata": {},
   "outputs": [],
   "source": [
    "class BST():\n",
    "    def __init__(self,key):\n",
    "        self.data=data\n",
    "        self.lchild=None\n",
    "        self.rchild=None\n",
    "    def insert(self,data):\n",
    "        if self.key is None:\n",
    "            self.key=data\n",
    "            return\n",
    "        if self.key>data:\n",
    "            if self.lchild:\n",
    "                self.lchild.insert(data)\n",
    "            else:\n",
    "                self.lchild=BST(data)\n",
    "        else:\n",
    "            self.key<data:\n",
    "                if self.rchild:\n",
    "                    self.rchild.insert(data)\n",
    "                else:\n",
    "                    self.rchild=BST(data)\n",
    "            \n",
    "        "
   ]
  },
  {
   "cell_type": "code",
   "execution_count": 1,
   "id": "897f4e9b",
   "metadata": {},
   "outputs": [],
   "source": [
    "# 2D Arrays"
   ]
  },
  {
   "cell_type": "code",
   "execution_count": 20,
   "id": "d5f9b2d9",
   "metadata": {},
   "outputs": [
    {
     "name": "stdout",
     "output_type": "stream",
     "text": [
      "[[0, 0, 0, 0, 0]]\n",
      "\n"
     ]
    }
   ],
   "source": [
    "cols,rows=(5,5)\n",
    "arr=[[0] *cols]\n",
    "print(arr)\n",
    "print()"
   ]
  },
  {
   "cell_type": "code",
   "execution_count": 21,
   "id": "da19bffe",
   "metadata": {},
   "outputs": [
    {
     "data": {
      "text/plain": [
       "[0, 0, 0, 0, 0]"
      ]
     },
     "execution_count": 21,
     "metadata": {},
     "output_type": "execute_result"
    }
   ],
   "source": [
    "[0 for i in range(cols)]"
   ]
  },
  {
   "cell_type": "code",
   "execution_count": 25,
   "id": "bee7c071",
   "metadata": {},
   "outputs": [
    {
     "name": "stdout",
     "output_type": "stream",
     "text": [
      "[[0, 0, 0, 0, 0], [0, 0, 0, 0, 0], [0, 0, 0, 0, 0], [0, 0, 0, 0, 0], [0, 0, 0, 0, 0]]\n"
     ]
    }
   ],
   "source": [
    "rows, cols = (5, 5)\n",
    "arr = [[0 for i in range(cols)] for j in range(rows) ]\n",
    "print(arr)"
   ]
  },
  {
   "cell_type": "code",
   "execution_count": 27,
   "id": "8a57143d",
   "metadata": {},
   "outputs": [
    {
     "name": "stdout",
     "output_type": "stream",
     "text": [
      "[1, 0, 0, 0, 0]\n",
      "[1, 0, 0, 0, 0]\n",
      "[1, 0, 0, 0, 0]\n",
      "[1, 0, 0, 0, 0]\n",
      "[1, 0, 0, 0, 0]\n"
     ]
    }
   ],
   "source": [
    "# Python 3 program to demonstrate working \n",
    "# of method 1 and method 2.\n",
    "rows, cols = (5, 5)\n",
    "# method 2 1st approach\n",
    "arr = [[0]*cols]*rows\n",
    "# lets change the first element of the \n",
    "# first row to 1 and print the array\n",
    "arr[0][0] = 1\n",
    "\n",
    "for row in arr:\n",
    "    print(row)\n",
    "\n",
    "# # method 2 2nd approach\n",
    "# arr = [[0 for i in range(cols)] for j in range(rows)]\n",
    "\n",
    "# # again in this new array lets change\n",
    "# # the first element of the first row \n",
    "# # to 1 and print the array\n",
    "# arr[0][0] = 1\n",
    "# for row in arr:\n",
    "#     print(row)"
   ]
  },
  {
   "cell_type": "code",
   "execution_count": 4,
   "id": "8be1f264",
   "metadata": {},
   "outputs": [
    {
     "name": "stdout",
     "output_type": "stream",
     "text": [
      "[[1, 2, 3], [4, 5, 6], [7, 8, 9]]\n"
     ]
    }
   ],
   "source": [
    "# Example 2D array (list of lists)\n",
    "matrix = [[1, 2, 3], [4, 5, 6], [7, 8, 9]]\n",
    "\n",
    "# # Convert 2D array to a single list\n",
    "# flat_list = [item for sublist in two_d_array for item in sublist]\n",
    "\n",
    "print(matrix)\n",
    "\n"
   ]
  },
  {
   "cell_type": "code",
   "execution_count": 11,
   "id": "7b833083",
   "metadata": {},
   "outputs": [
    {
     "name": "stdout",
     "output_type": "stream",
     "text": [
      "0 3 0 3\n"
     ]
    }
   ],
   "source": [
    "left,right=0,len(matrix[0])\n",
    "top,bottom=0,len(matrix)\n",
    "print(left,right,top,bottom)"
   ]
  },
  {
   "cell_type": "code",
   "execution_count": null,
   "id": "0c4ffb57",
   "metadata": {},
   "outputs": [],
   "source": [
    "result = []\n",
    "while left<right and top<bottom:\n",
    "    for i in range(left,right):\n",
    "        result.append(i)\n",
    "        \n",
    "#     top+=1\n",
    "#     for i in range(top,bottom):        \n",
    "#         result.append(matrix[i][right-1])\n",
    "print(result)\n",
    "        \n"
   ]
  },
  {
   "cell_type": "code",
   "execution_count": null,
   "id": "cb5d906d",
   "metadata": {},
   "outputs": [],
   "source": []
  }
 ],
 "metadata": {
  "kernelspec": {
   "display_name": "Python 3 (ipykernel)",
   "language": "python",
   "name": "python3"
  },
  "language_info": {
   "codemirror_mode": {
    "name": "ipython",
    "version": 3
   },
   "file_extension": ".py",
   "mimetype": "text/x-python",
   "name": "python",
   "nbconvert_exporter": "python",
   "pygments_lexer": "ipython3",
   "version": "3.10.9"
  }
 },
 "nbformat": 4,
 "nbformat_minor": 5
}
